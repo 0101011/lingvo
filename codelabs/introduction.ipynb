{
  "nbformat": 4,
  "nbformat_minor": 0,
  "metadata": {
    "colab": {
      "name": "Introduction to Lingvo",
      "version": "0.3.2",
      "provenance": [],
      "include_colab_link": true
    },
    "kernelspec": {
      "name": "python2",
      "display_name": "Python 2"
    }
  },
  "cells": [
    {
      "cell_type": "markdown",
      "metadata": {
        "id": "view-in-github",
        "colab_type": "text"
      },
      "source": [
        "<a href=\"https://colab.research.google.com/github/tensorflow/lingvo/blob/codelabs/introduction.ipynb\" target=\"_parent\"><img src=\"https://colab.research.google.com/assets/colab-badge.svg\" alt=\"Open In Colab\"/></a>"
      ]
    },
    {
      "metadata": {
        "id": "8SMqEgxW1tio",
        "colab_type": "text"
      },
      "cell_type": "markdown",
      "source": [
        "# Introduction to Lingvo\n",
        "\n",
        "Sorry, this codelab is still under construction.\n",
        "\n",
        "Please check back soon."
      ]
    }
  ]
}
